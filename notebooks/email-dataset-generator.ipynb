{
  "nbformat": 4,
  "nbformat_minor": 0,
  "metadata": {
    "colab": {
      "provenance": [],
      "authorship_tag": "ABX9TyNdYN6YBVxDUNYXf0CWcEhZ"
    },
    "kernelspec": {
      "name": "python3",
      "display_name": "Python 3"
    },
    "language_info": {
      "name": "python"
    }
  },
  "cells": [
    {
      "cell_type": "markdown",
      "source": [
        "# Criação de um Dataset para classificação de emails\n",
        "\n",
        "Os prompts para a geração dos emails foram gerados a partir de escrita humana e aumentados com auxílio de IAs generativas (ChatGPT e Gemini)."
      ],
      "metadata": {
        "id": "JRf4JfXnuZhP"
      }
    },
    {
      "cell_type": "code",
      "execution_count": null,
      "metadata": {
        "id": "qYsEqdkXYxDr"
      },
      "outputs": [],
      "source": [
        "from openai import OpenAI\n",
        "import pandas as pd\n",
        "import re\n",
        "\n",
        "client = OpenAI(api_key='')\n",
        "\n",
        "response_model = \"\"\"\n",
        "Assunto: [Assunto do email]\n",
        "Corpo: [Corpo do email]\n",
        "\n",
        "Assunto: [Assunto do email]\n",
        "Corpo: [Corpo do email]\n",
        "\n",
        "Assunto: [Assunto do email]\n",
        "Corpo: [Corpo do email]\n",
        "\n",
        "Assunto: [Assunto do email]\n",
        "Corpo: [Corpo do email]\n",
        "\n",
        "Assunto: [Assunto do email]\n",
        "Corpo: [Corpo do email]\n",
        "\"\"\""
      ]
    },
    {
      "cell_type": "markdown",
      "source": [
        "# Prompts para geração de emails \"Produtivos\""
      ],
      "metadata": {
        "id": "pUpHHjN9tzb-"
      }
    },
    {
      "cell_type": "code",
      "source": [
        "productive_prompts = [\n",
        "\"solicitar suporte técnico para um problema no software. Seja formal e profissional.\",\n",
        "\"marcar uma reunião urgente com um cliente. Seja formal e profissional.\",\n",
        "\"fazer perguntas sobre como usar uma funcionalidade específica do nosso sistema. Seja formal e profissional.\",\n",
        "\"cobrar um funcionário pela entrega atrasada de um projeto. Seja formal e profissional.\",\n",
        "\"solicitar suporte técnico porque o servidor saiu do ar. Seja preciso, detalhado e profissional.\",\n",
        "\"reportar um bug crítico que está afetando o desempenho do sistema. Seja formal e profissional.\",\n",
        "\"pedir informações sobre a atualização recente do software. Seja cortês e profissional.\",\n",
        "\"solicitar extensão do prazo para entrega de um projeto devido a circunstâncias imprevistas. Seja respeitoso e profissional.\",\n",
        "\"comunicar a necessidade de treinamento adicional em um novo sistema implementado. Seja profissional e direto.\",\n",
        "\"pedir confirmação de recebimento de um relatório importante. Seja formal e profissional.\",\n",
        "\"notificar ausências planejadas devido a férias ou compromissos pessoais. Seja educado e profissional.\",\n",
        "\"solicitar aprovação para despesas relacionadas a viagens de negócios. Seja formal e detalhado.\",\n",
        "\"informar sobre um incidente de segurança de TI e solicitar orientações. Seja urgente e profissional.\",\n",
        "\"apresentar uma proposta de melhoria de processo interno. Seja inovador e profissional.\",\n",
        "\"convidar colegas para participar de um webinar ou conferência relevante ao trabalho. Seja incentivador e profissional.\",\n",
        "\"requisitar acesso a uma nova ferramenta de trabalho. Seja objetivo e profissional.\",\n",
        "\"reportar problemas de desempenho em equipamentos. Seja detalhado e técnico.\",\n",
        "\"solicitar feedback sobre uma apresentação de projeto. Seja profissional e aberto a críticas.\",\n",
        "\"agendar uma reunião de alinhamento estratégico. Seja formal e organizado.\",\n",
        "\"comunicar mudanças nos procedimentos internos. Seja claro e profissional.\",\n",
        "\"solicitar recursos adicionais para um projeto em andamento. Seja específico e profissional.\",\n",
        "\"reportar resultados trimestrais para a diretoria. Seja formal e detalhado.\",\n",
        "\"pedir esclarecimentos sobre novas políticas corporativas. Seja respeitoso e profissional.\",\n",
        "\"solicitar autorização para horas extras. Seja formal e justifique adequadamente.\",\n",
        "\"reportar problemas com fornecedores. Seja profissional e objetivo.\",\n",
        "\"solicitar revisão de documentos importantes. Seja formal e específico.\",\n",
        "\"comunicar alterações no cronograma do projeto. Seja profissional e detalhado.\",\n",
        "\"pedir orientações sobre procedimentos de compliance. Seja formal e preciso.\",\n",
        "\"reportar inconsistências em relatórios financeiros. Seja técnico e profissional.\",\n",
        "\"solicitar atualização de equipamentos obsoletos. Seja objetivo e justifique bem.\",\n",
        "\"comunicar mudanças na equipe. Seja formal e informativo.\",\n",
        "\"pedir aprovação para novo fornecedor. Seja detalhado e profissional.\",\n",
        "\"reportar violações de segurança. Seja urgente e preciso.\",\n",
        "\"solicitar feedback sobre performance da equipe. Seja profissional e construtivo.\",\n",
        "\"comunicar atrasos em entregas de fornecedores. Seja formal e objetivo.\",\n",
        "\"pedir esclarecimentos sobre metas departamentais. Seja profissional e direto.\",\n",
        "\"reportar problemas com infraestrutura. Seja técnico e detalhado.\",\n",
        "\"solicitar reunião com stakeholders. Seja formal e organizado.\",\n",
        "\"comunicar mudanças em processos de qualidade. Seja específico e profissional.\",\n",
        "\"pedir autorização para compra de equipamentos. Seja detalhado e justifique bem.\",\n",
        "\"reportar problemas com clientes. Seja profissional e objetivo.\",\n",
        "\"solicitar acesso a dados confidenciais. Seja formal e justifique.\",\n",
        "\"comunicar resultados de auditoria. Seja técnico e preciso.\",\n",
        "\"pedir aprovação para novo projeto. Seja detalhado e profissional.\",\n",
        "\"reportar falhas em sistemas críticos. Seja urgente e específico.\",\n",
        "\"solicitar feedback sobre nova implementação. Seja profissional e aberto.\",\n",
        "\"comunicar mudanças em prazos contratuais. Seja formal e explicativo.\",\n",
        "\"pedir esclarecimentos sobre procedimentos legais. Seja técnico e profissional.\",\n",
        "\"reportar problemas de produtividade. Seja objetivo e construtivo.\",\n",
        "\"solicitar recursos para treinamento. Seja formal e justifique bem.\",\n",
        "\"comunicar alterações em contratos. Seja específico e profissional.\",\n",
        "\"pedir autorização para terceirização. Seja detalhado e justifique.\",\n",
        "\"reportar problemas de qualidade. Seja técnico e objetivo.\",\n",
        "\"solicitar reunião com auditores. Seja formal e organizado.\",\n",
        "\"comunicar mudanças em políticas de segurança. Seja específico e profissional.\",\n",
        "\"pedir aprovação para novos procedimentos. Seja detalhado e técnico.\",\n",
        "\"reportar problemas com parceiros comerciais. Seja profissional e objetivo.\",\n",
        "\"solicitar acesso a sistemas restritos. Seja formal e justifique bem.\",\n",
        "\"comunicar resultados de pesquisa interna. Seja técnico e preciso.\",\n",
        "\"pedir autorização para mudanças estruturais. Seja detalhado e profissional.\",\n",
        "\"reportar problemas de conformidade. Seja específico e formal.\",\n",
        "\"solicitar feedback sobre processos internos. Seja profissional e construtivo.\",\n",
        "\"comunicar mudanças em políticas de RH. Seja formal e claro.\",\n",
        "\"pedir esclarecimentos sobre normas técnicas. Seja específico e profissional.\",\n",
        "\"reportar problemas de segurança do trabalho. Seja objetivo e detalhado.\",\n",
        "\"solicitar recursos para expansão. Seja formal e justifique bem.\",\n",
        "\"comunicar alterações em metas. Seja específico e profissional.\",\n",
        "\"pedir autorização para contratações. Seja detalhado e justifique.\",\n",
        "\"reportar problemas ambientais. Seja técnico e objetivo.\",\n",
        "\"solicitar reunião com investidores. Seja formal e organizado.\",\n",
        "\"comunicar mudanças em procedimentos fiscais. Seja específico e profissional.\",\n",
        "\"pedir aprovação para investimentos. Seja detalhado e técnico.\",\n",
        "\"reportar problemas com licenças. Seja profissional e objetivo.\",\n",
        "\"solicitar acesso a relatórios gerenciais. Seja formal e justifique.\",\n",
        "\"comunicar resultados de projetos piloto. Seja técnico e preciso.\",\n",
        "\"pedir autorização para viagens internacionais. Seja detalhado e profissional.\",\n",
        "\"reportar problemas com patentes. Seja específico e formal.\",\n",
        "\"solicitar feedback sobre produtos novos. Seja profissional e construtivo.\",\n",
        "\"comunicar mudanças em estratégias. Seja formal e claro.\",\n",
        "\"pedir esclarecimentos sobre regulamentações. Seja específico e profissional.\",\n",
        "\"reportar problemas de logística. Seja objetivo e detalhado.\",\n",
        "\"solicitar recursos para pesquisa. Seja formal e justifique bem.\",\n",
        "\"comunicar alterações em processos produtivos. Seja específico e profissional.\",\n",
        "\"pedir autorização para parcerias. Seja detalhado e justifique.\",\n",
        "\"reportar problemas com certificações. Seja técnico e objetivo.\",\n",
        "\"solicitar reunião com reguladores. Seja formal e organizado.\",\n",
        "\"comunicar mudanças em políticas de qualidade. Seja específico e profissional.\",\n",
        "\"pedir aprovação para reestruturação. Seja detalhado e técnico.\",\n",
        "\"reportar problemas com propriedade intelectual. Seja profissional e objetivo.\",\n",
        "\"solicitar acesso a áreas restritas. Seja formal e justifique.\",\n",
        "\"comunicar resultados de testes. Seja técnico e preciso.\",\n",
        "\"pedir autorização para eventos corporativos. Seja detalhado e profissional.\",\n",
        "\"reportar problemas com documentação. Seja específico e formal.\",\n",
        "\"solicitar feedback sobre processos automatizados. Seja profissional e construtivo.\",\n",
        "\"comunicar mudanças em hierarquias. Seja formal e claro.\",\n",
        "\"pedir esclarecimentos sobre procedimentos operacionais. Seja específico e profissional.\",\n",
        "\"reportar problemas com equipamentos críticos. Seja objetivo e detalhado.\",\n",
        "\"solicitar recursos para modernização. Seja formal e justifique bem.\",\n",
        "\"comunicar alterações em fluxos de trabalho. Seja específico e profissional.\",\n",
        "\"pedir autorização para aquisições. Seja detalhado e justifique.\",\n",
        "\"reportar problemas com sistemas legados. Seja técnico e objetivo.\",\n",
        "\"solicitar reunião com consultores. Seja formal e organizado.\",\n",
        "\"comunicar mudanças em protocolos. Seja específico e profissional.\",\n",
        "\"pedir aprovação para novos métodos. Seja detalhado e técnico.\",\n",
        "\"reportar problemas com integrações. Seja profissional e objetivo.\",\n",
        "\"solicitar acesso a bancos de dados. Seja formal e justifique.\",\n",
        "\"comunicar resultados de análises. Seja técnico e preciso.\",\n",
        "\"pedir autorização para mudanças tecnológicas. Seja detalhado e profissional.\",\n",
        "\"informar um grave erro no sistema de estoque. Seja formal, com tom de urgência e justifique.\",\n",
        "\"solicitar uma reunião urgente com um cliente, para discutir os prerequisitos do projeto. Seja formal e profissional.\",\n",
        "]"
      ],
      "metadata": {
        "id": "OfmBYY2NecmC"
      },
      "execution_count": null,
      "outputs": []
    },
    {
      "cell_type": "markdown",
      "source": [
        "# Prompts para geração de emails \"Improdutivos\""
      ],
      "metadata": {
        "id": "wIRjhV4Qt4NH"
      }
    },
    {
      "cell_type": "code",
      "source": [
        "unproductive_prompts = [\n",
        "\"parabenizar um colega pelo aniversário.\",\n",
        "\"agradecer à equipe pelo excelente trabalho no projeto.\",\n",
        "\"desejar Feliz Natal.\",\n",
        "\"desejar Feliz Ano Novo.\",\n",
        "\"desejar Feliz Páscoa.\",\n",
        "\"convidar colegas para um happy hour após o trabalho.\",\n",
        "\"compartilhar fotos do evento da empresa.\",\n",
        "\"anunciar que trouxe bolo para o escritório. Seja informal e amigável.\",\n",
        "\"comentar sobre o clima agradável no dia de hoje.\",\n",
        "\"compartilhar uma história engraçada que ocorreu no escritório.\",\n",
        "\"comentar sobre o resultado de um jogo esportivo local.\",\n",
        "\"enviar elogios pelo café da manhã trazido por um colega.\",\n",
        "\"organizar um amigo secreto entre os colegas. Seja informal e amigável.\",\n",
        "\"compartilhar uma citação inspiradora para começar a semana.\",\n",
        "\"convidar para festa de despedida de um colega.\",\n",
        "\"organizar um almoço de confraternização.\",\n",
        "\"desejar boa sorte a um colega em novo emprego.\",\n",
        "\"compartilhar receitas culinárias com a equipe.\",\n",
        "\"convidar para churrasco no fim de semana.\",\n",
        "\"compartilhar fotos de pets com os colegas.\",\n",
        "\"organizar pool de apostas para campeonato esportivo.\",\n",
        "\"desejar bom fim de semana para a equipe.\",\n",
        "\"compartilhar playlist de música para o ambiente de trabalho.\",\n",
        "\"convidar para assistir jogo importante no bar.\",\n",
        "\"compartilhar dicas de séries e filmes.\",\n",
        "\"organizar café da manhã coletivo.\",\n",
        "\"desejar pronto restabelecimento a colega doente.\",\n",
        "\"compartilhar horóscopo do dia no grupo.\",\n",
        "\"convidar para yoga em grupo no horário do almoço.\",\n",
        "\"compartilhar notícias de entretenimento.\",\n",
        "\"organizar decoração para festas temáticas.\",\n",
        "\"desejar bom feriado prolongado.\",\n",
        "\"compartilhar fotos das últimas férias.\",\n",
        "\"convidar para karaokê após expediente.\",\n",
        "\"compartilhar piadas internas da equipe.\",\n",
        "\"organizar lista de música para festa.\",\n",
        "\"desejar boa viagem a colega.\",\n",
        "\"compartilhar dicas de restaurantes.\",\n",
        "\"convidar para sessão de cinema em grupo.\",\n",
        "\"compartilhar memes sobre a segunda-feira.\",\n",
        "\"organizar sorteio de brindes informais.\",\n",
        "\"desejar feliz dia das mães.\",\n",
        "\"compartilhar fotos de confraternização anterior.\",\n",
        "\"convidar para prática esportiva no fim de semana.\",\n",
        "\"compartilhar vídeos engraçados.\",\n",
        "\"organizar festa surpresa.\",\n",
        "\"desejar bom descanso nas férias.\",\n",
        "\"compartilhar dicas de bem-estar.\",\n",
        "\"convidar para happy hour virtual.\",\n",
        "\"compartilhar resultados de teste de personalidade.\",\n",
        "\"organizar bingo virtual.\",\n",
        "\"desejar feliz aniversário de casamento.\",\n",
        "\"compartilhar histórias da infância.\",\n",
        "\"convidar para grupo de corrida.\",\n",
        "\"compartilhar previsão do tempo para o fim de semana.\",\n",
        "\"organizar troca de livros entre colegas.\",\n",
        "\"desejar sucesso em nova fase da vida.\",\n",
        "\"compartilhar dicas de decoração.\",\n",
        "\"convidar para piquenique no parque.\",\n",
        "\"compartilhar fotos de pratos preparados.\",\n",
        "\"organizar campeonato de games online.\",\n",
        "\"desejar feliz dia do amigo.\",\n",
        "\"compartilhar playlist para exercícios.\",\n",
        "\"convidar para aula de dança.\",\n",
        "\"compartilhar memes sobre vida fitness.\",\n",
        "\"organizar clube do livro informal.\",\n",
        "\"desejar feliz dia internacional da mulher/homem.\",\n",
        "\"compartilhar dicas de jardinagem.\",\n",
        "\"convidar para degustação de vinhos.\",\n",
        "\"compartilhar fotos de animais de estimação.\",\n",
        "\"organizar grupo de meditação.\",\n",
        "\"desejar feliz dia do professor.\",\n",
        "\"compartilhar receitas vegetarianas.\",\n",
        "\"convidar para workshop de artesanato.\",\n",
        "\"compartilhar dicas de moda.\",\n",
        "\"organizar feira de troca.\",\n",
        "\"desejar feliz dia das crianças.\",\n",
        "\"compartilhar experiências de viagem.\",\n",
        "\"convidar para sessão de jogos de tabuleiro.\",\n",
        "\"compartilhar curiosidades sobre signos.\",\n",
        "\"organizar karaokê virtual.\",\n",
        "\"desejar feliz páscoa com memes.\",\n",
        "\"compartilhar dicas de organização pessoal.\",\n",
        "\"convidar para clube de fotografia.\",\n",
        "\"compartilhar playlipromptsst para relaxamento.\",\n",
        "\"organizar desafio fitness entre colegas.\",\n",
        "\"desejar feliz dia do trabalho.\",\n",
        "\"compartilhar fotos antigas da empresa.\",\n",
        "\"convidar para festival gastronômico.\",\n",
        "\"compartilhar dicas de podcasts.\",\n",
        "\"organizar concurso de fantasias.\",\n",
        "\"compartilhar sugestões de presentes.\",\n",
        "\"convidar para tarde de jogos.\",\n",
        "\"compartilhar memes sobre home office.\",\n",
        "\"organizar clube de culinária.\",\n",
        "\"desejar feliz dia do médico.\",\n",
        "\"compartilhar dicas de plantas.\",\n",
        "\"convidar para aula experimental de hobby.\",\n",
        "\"compartilhar resultados de quiz online.\",\n",
        "\"organizar competição de talentos virtual.\",\n",
        "\"desejar feliz dia do cliente.\",\n",
        "\"compartilhar dicas de leitura.\",\n",
        "\"convidar para sessão de pintura.\",\n",
        "\"compartilhar fotos de paisagens.\",\n",
        "\"organizar grupo de estudos de idiomas.\",\n",
        "\"desejar feliz dia do abraço.\",\n",
        "\"compartilhar playlist temática.\",\n",
        "\"convidar para passeio ciclístico.\",\n",
        "\"compartilhar memes sobre feriados.\",\n",
        "\"organizar desafio fotográfico.\"\n",
        "]"
      ],
      "metadata": {
        "id": "nb8IHNY-egiF"
      },
      "execution_count": null,
      "outputs": []
    },
    {
      "cell_type": "code",
      "source": [
        "print(len(productive_prompts))\n",
        "print(len(unproductive_prompts))"
      ],
      "metadata": {
        "colab": {
          "base_uri": "https://localhost:8080/"
        },
        "id": "jNJi-tjveuR2",
        "outputId": "eb0afb50-3c47-4ad5-9f25-8b30bc40ca80"
      },
      "execution_count": null,
      "outputs": [
        {
          "output_type": "stream",
          "name": "stdout",
          "text": [
            "110\n",
            "110\n"
          ]
        }
      ]
    },
    {
      "cell_type": "code",
      "source": [
        "email_prompts = []\n",
        "labels = []\n",
        "\n",
        "for prompt in productive_prompts:\n",
        "    email_prompts.append(prompt)\n",
        "    labels.append('Produtivo')\n",
        "\n",
        "for prompt in unproductive_prompts:\n",
        "    email_prompts.append(prompt)\n",
        "    labels.append('Improdutivo')\n",
        "\n",
        "print(len(email_prompts))\n",
        "print(len(labels))"
      ],
      "metadata": {
        "colab": {
          "base_uri": "https://localhost:8080/"
        },
        "id": "FJgjZ2YHZ4Cj",
        "outputId": "66ef500a-6f23-4e0c-8d67-b17f03e41f47"
      },
      "execution_count": null,
      "outputs": [
        {
          "output_type": "stream",
          "name": "stdout",
          "text": [
            "220\n",
            "220\n"
          ]
        }
      ]
    },
    {
      "cell_type": "markdown",
      "source": [
        "# Montar um prompt para geração de emails\n",
        "\n",
        "Cada iteração gera 5 emails"
      ],
      "metadata": {
        "id": "jybpKvOCuA-w"
      }
    },
    {
      "cell_type": "code",
      "source": [
        "prompts =[]\n",
        "for mail_prompt, label in zip(email_prompts, labels):\n",
        "    prompt = f\"\"\"\n",
        "Você deve escrever um email para {mail_prompt}\n",
        "Sempre assine os emails com nomes fictícios.\n",
        "Os emails devem ser bem elaborados. Faça 5 variações.\n",
        "Preencha todas as informações necessárias com dados fictícios (nome de software, descrição do problema, etc.).\n",
        "Isso tem como objetivo criar uma base de dados de emails para classificação.\n",
        "Sua resposta deve estar no seguinte formato:\n",
        "\n",
        "{response_model}\n",
        "\"\"\"\n",
        "    prompts.append({'prompt': prompt, 'label': label})"
      ],
      "metadata": {
        "id": "j9tEgJUBhtvp"
      },
      "execution_count": null,
      "outputs": []
    },
    {
      "cell_type": "code",
      "source": [
        "generated_emails = []\n",
        "\n",
        "for item in prompts:\n",
        "    response = client.chat.completions.create(\n",
        "        model=\"gpt-4o-mini\",\n",
        "        messages=[{\"role\": \"user\", \"content\": item['prompt']}],\n",
        "        temperature=0.7,\n",
        "    )\n",
        "    email_content = response.choices[0].message.content\n",
        "\n",
        "    # Separar as 5 variações\n",
        "    variations = re.split(r'\\n\\n(?=Assunto:)', email_content.strip())\n",
        "\n",
        "    for variation in variations:\n",
        "        if variation.strip():\n",
        "            # Extrair assunto e corpo\n",
        "            parts = variation.split('\\nCorpo: ')\n",
        "            if len(parts) == 2:\n",
        "                assunto = parts[0].replace('Assunto: ', '').strip()\n",
        "                corpo = parts[1].strip()\n",
        "\n",
        "                generated_emails.append({\n",
        "                    'Assunto': assunto,\n",
        "                    'Corpo': corpo,\n",
        "                    'Label': item['label']\n",
        "                })\n",
        "\n",
        "df = pd.DataFrame(generated_emails)"
      ],
      "metadata": {
        "id": "r3VjcSOuhRLl"
      },
      "execution_count": null,
      "outputs": []
    },
    {
      "cell_type": "markdown",
      "source": [
        "# Processamento do Dataset"
      ],
      "metadata": {
        "id": "0_CHdKvQuMwH"
      }
    },
    {
      "cell_type": "code",
      "source": [
        "import numpy as np\n",
        "from sklearn.utils import resample\n",
        "\n",
        "# Remover linhas onde Assunto ou Corpo são vazios ou None\n",
        "df = df.dropna(subset=['Assunto', 'Corpo'])\n",
        "df = df[df['Assunto'].str.strip() != '']\n",
        "df = df[df['Corpo'].str.strip() != '']\n",
        "\n",
        "# Remover repetidos\n",
        "df = df.drop_duplicates(subset=['Assunto', 'Corpo'])\n",
        "\n",
        "# Fazer undersampling para balancear as classes\n",
        "min_class_size = df['Label'].value_counts().min()\n",
        "df_balanced = pd.DataFrame()\n",
        "\n",
        "for label in df['Label'].unique():\n",
        "    df_temp = df[df['Label'] == label]\n",
        "    df_downsampled = resample(df_temp,\n",
        "                            replace=False,\n",
        "                            n_samples=min_class_size,\n",
        "                            random_state=42)\n",
        "    df_balanced = pd.concat([df_balanced, df_downsampled])\n",
        "\n",
        "# Embaralhar\n",
        "df_balanced = df_balanced.sample(frac=1, random_state=42).reset_index(drop=True)"
      ],
      "metadata": {
        "id": "oZEfARtfmU-8"
      },
      "execution_count": null,
      "outputs": []
    },
    {
      "cell_type": "markdown",
      "source": [
        "# Estatísticas do Dataset"
      ],
      "metadata": {
        "id": "n9PC_nO1uPsb"
      }
    },
    {
      "cell_type": "code",
      "source": [
        "print(\"ESTATÍSTICAS DO DATASET\")\n",
        "print(f\"\\nTotal de emails gerados: {len(df_balanced)}\")\n",
        "\n",
        "label_counts = df_balanced['Label'].value_counts()\n",
        "print(\"\\nQuantidade de emails por categoria:\")\n",
        "print(f\"Emails Produtivos: {label_counts.get('Produtivo', 0)}\")\n",
        "print(f\"Emails Improdutivos: {label_counts.get('Improdutivo', 0)}\")\n",
        "\n",
        "print(\"\\nMédia de caracteres:\")\n",
        "df_balanced['Tamanho_Corpo'] = df_balanced['Corpo'].str.len()\n",
        "df_balanced['Tamanho_Assunto'] = df_balanced['Assunto'].str.len()\n",
        "print(f\"Média de caracteres no corpo: {df_balanced['Tamanho_Corpo'].mean():.2f}\")\n",
        "print(f\"Média de caracteres no assunto: {df_balanced['Tamanho_Assunto'].mean():.2f}\")"
      ],
      "metadata": {
        "colab": {
          "base_uri": "https://localhost:8080/"
        },
        "id": "GAlBuCB7i-vO",
        "outputId": "9b18f691-8f6e-46ce-961b-9cc3e040fbba"
      },
      "execution_count": null,
      "outputs": [
        {
          "output_type": "stream",
          "name": "stdout",
          "text": [
            "ESTATÍSTICAS DO DATASET\n",
            "\n",
            "Total de emails gerados: 1100\n",
            "\n",
            "Quantidade de emails por categoria:\n",
            "Emails Produtivos: 550\n",
            "Emails Improdutivos: 550\n",
            "\n",
            "Média de caracteres:\n",
            "Média de caracteres no corpo: 575.03\n",
            "Média de caracteres no assunto: 45.82\n"
          ]
        }
      ]
    },
    {
      "cell_type": "code",
      "source": [
        "print(\"\\n\\nEXEMPLOS DE EMAILS\")\n",
        "for label in ['Produtivo', 'Improdutivo']:\n",
        "    print(f\"\\n{label.upper()}:\")\n",
        "    subset = df_balanced[df_balanced['Label'] == label].head(3)\n",
        "    for _, row in subset.iterrows():\n",
        "        print(f\"\\nAssunto: {row['Assunto']}\")\n",
        "        print(f\"\\nCorpo: {row['Corpo']}\")\n",
        "        print(\"-\" * 20)"
      ],
      "metadata": {
        "colab": {
          "base_uri": "https://localhost:8080/"
        },
        "id": "fZ3ATbn94J9Z",
        "outputId": "c9e1145b-f435-4fe3-9abf-1ec4d8fb50e1"
      },
      "execution_count": null,
      "outputs": [
        {
          "output_type": "stream",
          "name": "stdout",
          "text": [
            "\n",
            "\n",
            "EXEMPLOS DE EMAILS\n",
            "\n",
            "PRODUTIVO:\n",
            "\n",
            "Assunto: Proposta de Reestruturação do Banco de Dados\n",
            "\n",
            "Corpo: Prezada Sra. Oliveira,  \n",
            "\n",
            "Espero que você esteja bem.  \n",
            "\n",
            "Venho por meio deste email solicitar a sua aprovação para uma reestruturação no Banco de Dados da nossa plataforma de gerenciamento, DataCore. Atualmente, enfrentamos desafios relacionados à performance e escalabilidade, que têm impactado diretamente a experiência do usuário.  \n",
            "\n",
            "Após uma análise técnica, as principais questões identificadas incluem:  \n",
            "\n",
            "1. **Indexação Inadequada:** O sistema está apresentando lentidão devido à falta de índices apropriados em tabelas críticas.  \n",
            "2. **Estrutura de Dados Obsoleta:** As tabelas não estão otimizadas para as consultas realizadas, o que compromete a eficiência das operações.  \n",
            "3. **Backup e Recuperação:** O processo de backup é excessivamente demorado e pode comprometer a recuperação em caso de falhas.  \n",
            "\n",
            "Proponho as seguintes ações para resolver esses problemas:  \n",
            "\n",
            "- Reestruturação das tabelas com normalização apropriada.  \n",
            "- Implementação de índices para acelerar as consultas.  \n",
            "- Revisão do processo de backup para garantir a integridade e a rapidez da recuperação.  \n",
            "\n",
            "A implementação dessas mudanças poderá resultar em uma melhoria de 50% no tempo de resposta das consultas.  \n",
            "\n",
            "Aguardo sua aprovação para seguirmos com o projeto.  \n",
            "\n",
            "Atenciosamente,  \n",
            "Mariana Costa  \n",
            "\n",
            "---\n",
            "--------------------\n",
            "\n",
            "Assunto: Solicitação de Investimento em Tecnologia para Modernização do Setor Financeiro\n",
            "\n",
            "Corpo: Prezados,\n",
            "\n",
            "Meu nome é Felipe Costa, sou o diretor financeiro da empresa Finanças Fáceis. Venho por meio deste solicitar um investimento para a modernização do nosso sistema financeiro, o FinancePro.\n",
            "\n",
            "Atualmente, enfrentamos dificuldades com a lentidão do sistema e a falta de integração com outras plataformas, o que tem gerado retrabalho e atrasos nas análises financeiras. Além disso, a ausência de recursos de análise preditiva limita nossa capacidade de planejamento estratégico.\n",
            "\n",
            "Para resolver essas questões, sugerimos a implementação do software Finance360, que possui funcionalidades adequadas às nossas necessidades e permitirá uma gestão mais eficaz dos nossos recursos financeiros.\n",
            "\n",
            "Agradeço pela consideração e estou à disposição para discutir este projeto em maior profundidade.\n",
            "\n",
            "Atenciosamente,\n",
            "\n",
            "Felipe Costa  \n",
            "Diretor Financeiro  \n",
            "Finanças Fáceis\n",
            "\n",
            "---\n",
            "--------------------\n",
            "\n",
            "Assunto: Problema com Certificação do Software CertiDoc\n",
            "\n",
            "Corpo: Prezada equipe de suporte,\n",
            "\n",
            "Estou enfrentando problemas com a certificação do software CertiDoc, versão 3.2. Ao tentar validar as credenciais de usuário, o sistema retorna um erro de \"Certificação Inválida\". Esse problema ocorre desde o dia 15 de outubro, e já tentei reiniciar o sistema, além de verificar as configurações de rede. \n",
            "\n",
            "Agradeço pela atenção e aguardo uma solução o mais breve possível.\n",
            "\n",
            "Atenciosamente,  \n",
            "Lucas Almeida\n",
            "\n",
            "---\n",
            "--------------------\n",
            "\n",
            "IMPRODUTIVO:\n",
            "\n",
            "Assunto: Boa Viagem, Luísa!\n",
            "\n",
            "Corpo: Oi Luísa,  \n",
            "\n",
            "Quero te desejar uma excelente viagem para Paris! Que você possa aproveitar cada momento nessa cidade tão linda e cheia de história. Não esqueça de visitar a Torre Eiffel e saborear um croissant na beira do Sena!  \n",
            "\n",
            "Estaremos torcendo por você! Volte cheia de histórias para contar.  \n",
            "\n",
            "Com carinho,  \n",
            "Felipe Almeida  \n",
            "\n",
            "---\n",
            "--------------------\n",
            "\n",
            "Assunto: Convite Especial para Yoga em Grupo\n",
            "\n",
            "Corpo: Olá, time!\n",
            "\n",
            "Gostaria de convidá-los para uma experiência revitalizante: Yoga em grupo durante o horário do almoço! As sessões acontecerão às sextas-feiras, às 12h45, na sala de conferências.\n",
            "\n",
            "Esta é uma ótima oportunidade para relaxar, alongar o corpo e preparar a mente para o fim de semana. Todos são bem-vindos, não importa se você já praticou Yoga antes ou não.\n",
            "\n",
            "Traga seu tapete e venha se juntar a nós nessa prática de autocuidado e bem-estar.\n",
            "\n",
            "Espero ver todos vocês lá!\n",
            "\n",
            "Com gratidão,\n",
            "Ana Clara Martins\n",
            "--------------------\n",
            "\n",
            "Assunto: Estratégias para uma Organização Eficiente\n",
            "\n",
            "Corpo: Olá, pessoal!  \n",
            "Como todos sabemos, a organização pessoal é fundamental para o nosso sucesso. Por isso, gostaria de compartilhar algumas estratégias que podem ajudar a manter tudo em ordem:  \n",
            "\n",
            "1. **Planejamento semanal**: Utilize o \"CalendarPro\" para agendar suas atividades. Planejar a semana com antecedência pode evitar surpresas desagradáveis.  \n",
            "\n",
            "2. **Faça listas de tarefas diárias**: Crie listas de tarefas usando o \"Listify\", que permite priorizar as atividades por urgência e importância.  \n",
            "\n",
            "3. **Defina metas SMART**: Específicas, Mensuráveis, Atingíveis, Relevantes e Temporais. Isso ajudará a manter o foco e a motivação.  \n",
            "\n",
            "4. **Reserve um tempo para revisar**: Dedique um dia da semana para rever o que foi realizado e ajustar o que for necessário.  \n",
            "\n",
            "5. **Use lembretes**: O \"ReminderApp\" pode ser uma ótima maneira de nunca esquecer prazos importantes ou compromissos.  \n",
            "\n",
            "Espero que essas estratégias ajudem a todos a se manterem organizados e produtivos!  \n",
            "\n",
            "Abraços,  \n",
            "Mariana Costa  \n",
            "\n",
            "---\n",
            "--------------------\n"
          ]
        }
      ]
    },
    {
      "cell_type": "markdown",
      "source": [
        "# Salvar"
      ],
      "metadata": {
        "id": "dKiEGA5YuXlH"
      }
    },
    {
      "cell_type": "code",
      "source": [
        "df_balanced.to_csv('emails_dataset.csv', index=False)"
      ],
      "metadata": {
        "id": "WJd1c92hl7WR"
      },
      "execution_count": null,
      "outputs": []
    }
  ]
}